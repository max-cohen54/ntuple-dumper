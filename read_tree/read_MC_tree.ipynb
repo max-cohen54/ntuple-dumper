{
 "cells": [
  {
   "cell_type": "code",
   "execution_count": 1,
   "id": "49b771ba",
   "metadata": {},
   "outputs": [
    {
     "name": "stdout",
     "output_type": "stream",
     "text": [
      "Welcome to JupyROOT 6.30/04\n"
     ]
    }
   ],
   "source": [
    "# source /cvmfs/sft.cern.ch/lcg/views/LCG_104/x86_64-centos7-gcc11-opt/setup.sh\n",
    "import numpy as np\n",
    "import ROOT\n",
    "import math\n",
    "import h5py\n",
    "import xml.etree.ElementTree as ET\n",
    "import os"
   ]
  },
  {
   "cell_type": "code",
   "execution_count": 2,
   "id": "9952d9aa",
   "metadata": {},
   "outputs": [],
   "source": [
    "# Maximum numbers of each object\n",
    "NUM_JETS = 10\n",
    "NUM_ELECTRONS = 6\n",
    "NUM_MUONS = 6\n",
    "NUM_PHOTONS = 6\n",
    "NUM_L1 = 6"
   ]
  },
  {
   "cell_type": "code",
   "execution_count": 3,
   "id": "dd2172cd",
   "metadata": {},
   "outputs": [],
   "source": [
    "# Min/max pt and eta values\n",
    "MIN_JET_PT = 0\n",
    "MIN_PHELMU_PT = 0\n",
    "MAX_ETA = 1000"
   ]
  },
  {
   "cell_type": "code",
   "execution_count": 4,
   "id": "9485ed29-f399-41ab-9064-1ea058ae4ee7",
   "metadata": {},
   "outputs": [],
   "source": [
    "# List of triggers that we want to keep L1 events from for HLT training\n",
    "L1_save_trigs = [\n",
    "    'L1_3J35p0ETA23',\n",
    "    'L1_3J50',\n",
    "    'L1_4J15',\n",
    "    'L1_4J15p0ETA25',\n",
    "    'L1_4J20',\n",
    "    'L1_5J15p0ETA25',\n",
    "    'L1_J85_3J30',\n",
    "    'L1_HT150-J20s5pETA31_MJJ-400-CF',\n",
    "    'L1_HT190-J15s5pETA21',\n",
    "    'L1_SC111-CJ15',\n",
    "    'L1_DR-TAU20ITAU12I-J25',\n",
    "    'L1_TAU100',\n",
    "    'L1_TAU20IM_2TAU12IM_4J12p0ETA25',\n",
    "    'L1_TAU25IM_2TAU20IM_2J25_3J20',\n",
    "    'L1_TAU60_2TAU40',\n",
    "    'L1_TAU60_DR-TAU20ITAU12I',\n",
    "    'L1_2MU8F',\n",
    "    'L1_3MU3VF',\n",
    "    'L1_3MU5VF',\n",
    "    'L1_4MU3V',\n",
    "    'L1_MU10BOM',\n",
    "    'L1_MU12BOM',\n",
    "    'L1_MU14FCH',\n",
    "    'L1_MU5VF_3MU3VF',\n",
    "    'L1_MU8VF_2MU5VF',\n",
    "    'L1_BPH-0M9-EM7-EM5_2MU3V',\n",
    "    'L1_2EM8VH_MU8F',\n",
    "    'L1_2J15_XE55',\n",
    "    'L1_3J15p0ETA25_XE40',\n",
    "    'L1_EM15VHI_2TAU12IM_4J12',\n",
    "    'L1_EM15VHI_2TAU12IM_XE35',\n",
    "    'L1_EM15VH_MU8F',\n",
    "    'L1_MU8F_TAU12IM_3J12',\n",
    "    'L1_MU8F_TAU12IM_XE35',\n",
    "    'L1_MU8F_TAU20IM',\n",
    "    'L1_TAU40_2TAU12IM_XE40',\n",
    "    'L1_MJJ-500-NFF',\n",
    "    'L1_MU18VFCH',\n",
    "    'L1_J45p0ETA21_3J15p0ETA25',\n",
    "    'L1_MU8F_2J15_J20',\n",
    "    'L1_2EM20VH',\n",
    "    'L1_XE55',\n",
    "    'L1_EM18VHI_MJJ-300',\n",
    "    'L1_2EM15VHI',\n",
    "    'L1_J120',\n",
    "    'L1_EM20VH_3EM10VH',\n",
    "    'L1_MU5VF_EMPTY',\n",
    "    'L1_J40p0ETA25_2J25_J20p31ETA49',\n",
    "    'L1_2J50_XE40',\n",
    "    'L1_J25p0ETA23_2J15p31ETA49',\n",
    "    'L1_2MU5VF_3MU3V'\n",
    "]"
   ]
  },
  {
   "cell_type": "code",
   "execution_count": 5,
   "id": "a5208222-a295-44d8-bcdc-a4726fdcdca2",
   "metadata": {},
   "outputs": [],
   "source": [
    "# List of HLT triggers that we want to look at to study HLT overlap\n",
    "HLT_save_trigs = [\n",
    "    'HLT_e26_lhtight_ivarloose_L1eEM26M',\n",
    "    'HLT_e60_lhmedium_L1eEM26M',\n",
    "    'HLT_e140_lhloose_L1eEM26M',\n",
    "    'HLT_e300_etcut_L1eEM26M',\n",
    "    'HLT_e140_lhloose_noringer_L1eEM26M',\n",
    "    'HLT_e30_lhloose_nopix_lrtmedium_L1eEM26M',\n",
    "    'HLT_2e17_lhvloose_L12eEM18M',\n",
    "    'HLT_2e24_lhvloose_L12eEM24L',\n",
    "    'HLT_e24_lhvloose_2e12_lhvloose_L1eEM24L_3eEM12L',\n",
    "    'HLT_g140_loose_L1eEM26M',\n",
    "    'HLT_g300_etcut_L1eEM26M',\n",
    "    'HLT_2g20_tight_icaloloose_L12eEM18M',\n",
    "    'HLT_2g22_tight_L12eEM18M',\n",
    "    'HLT_2g50_loose_L12eEM24L',\n",
    "    'HLT_g35_medium_g25_medium_L12eEM24L',\n",
    "    'HLT_mu24_ivarmedium_L1MU14FCH',\n",
    "    'HLT_mu50_L1MU14FCH',\n",
    "    'HLT_mu60_0eta105_msonly_L1MU14FCH',\n",
    "    'HLT_mu60_L1MU14FCH',\n",
    "    'HLT_mu80_msonly_3layersEC_L1MU14FCH',\n",
    "    'HLT_mu20_LRT_d0loose_L1MU14FCH\t',\n",
    "    'HLT_2mu10_l2mt_L1MU10BOM',\n",
    "    'HLT_2mu14_L12MU8F',\n",
    "    'HLT_mu20_ivarmedium_mu8noL1_L1MU14FCH',\n",
    "    'HLT_mu22_mu8noL1_L1MU14FCH',\n",
    "    'HLT_3mu6_L13MU5VF',\n",
    "    'HLT_3mu6_msonly_L13MU5VF',\n",
    "    'HLT_mu20_2mu4noL1_L1MU14FCH',\n",
    "    'HLT_4mu4_L14MU3V',\n",
    "    'HLT_mu10_ivarmedium_mu10_10invmAB70_L12MU8F',\n",
    "    'HLT_mu20_ivarmedium_mu4noL1_10invmAB70_L1MU14FCH',\n",
    "    'HLT_mu20_mu2noL1_invmJPsiOS_L1MU14FCH',\n",
    "    'HLT_e7_lhmedium_mu24_L1MU14FCH',\n",
    "    'HLT_e17_lhloose_mu14_L1EM15VH_MU8F',\n",
    "    'HLT_e26_lhmedium_mu8noL1_L1EM22VHI',\n",
    "    'HLT_2e12_lhloose_mu10_L12EM8VH_MU8F',\n",
    "    'HLT_e9_lhvloose_mu20_mu8noL1_L1MU14FCH',\n",
    "    'HLT_e12_lhloose_2mu10_L12MU8F',\n",
    "    'HLT_g25_medium_mu24_L1MU14FCH',\n",
    "    'HLT_g35_loose_mu18_L1EM24VHI',\n",
    "    'HLT_2g10_loose_mu20_L1MU14FCH',\n",
    "    'HLT_tau160_mediumRNN_tracktwoMVA_L1TAU100',\n",
    "    'HLT_tau180_mediumRNN_tracktwoLLP_L1TAU100\t',\n",
    "    'HLT_tau80_mediumRNN_tracktwoMVA_tau60_mediumRNN_tracktwoMVA_03dRAB_L1TAU60_2TAU40',\n",
    "    'HLT_tau80_mediumRNN_tracktwoLLP_tau60_mediumRNN_tracktwoLLP_03dRAB_L1TAU60_2TAU40',\n",
    "    'HLT_tau160_mediumRNN_tracktwoMVA_L1eTAU140',\n",
    "    'HLT_tau180_mediumRNN_tracktwoLLP_L1eTAU140\t',\n",
    "    'HLT_tau80_mediumRNN_tracktwoMVA_tau60_mediumRNN_tracktwoMVA_03dRAB_L1eTAU80_2eTAU60',\n",
    "    'HLT_tau80_mediumRNN_tracktwoLLP_tau60_mediumRNN_tracktwoLLP_03dRAB_L1eTAU80_2eTAU60',\n",
    "    'HLT_e24_lhmedium_ivarloose_tau20_mediumRNN_tracktwoMVA_03dRAB_L1eEM26M',\n",
    "    'HLT_mu20_ivarloose_tau20_mediumRNN_tracktwoMVA_03dRAB_L1MU14FCH',\n",
    "    'HLT_mu14_ivarloose_tau35_mediumRNN_tracktwoMVA_03dRAB_L1MU8F_TAU20IM',\n",
    "    'HLT_mu14_ivarloose_tau25_mediumRNN_tracktwoMVA_03dRAB_L1MU8F_TAU12IM_3J12',\n",
    "    'HLT_xe55_cell_xe70_tcpufit_xe90_pfsum_vssk_L1XE50',\n",
    "    'HLT_xe55_cell_xe70_tcpufit_xe95_pfsum_cssk_L1XE50',\n",
    "    'HLT_xe60_cell_xe95_pfsum_cssk_L1XE50',\n",
    "    'HLT_xe65_cell_xe100_mhtpufit_pf_L1XE50',\n",
    "    'HLT_xe65_cell_xe105_mhtpufit_em_L1XE50',\n",
    "    'HLT_xe75_cell_xe65_tcpufit_xe90_trkmht_L1XE50',\n",
    "    'HLT_xe65_cell_xe90_pfopufit_L1XE50',\n",
    "    'HLT_xe80_cell_xe115_tcpufit_L1XE50\t',\n",
    "    'HLT_e70_lhloose_xe70_cell_L1eEM26M',\n",
    "    'HLT_g90_loose_xe90_cell_L1eEM26M',\n",
    "    'HLT_mu14_tau25_mediumRNN_tracktwoMVA_xe50_cell_03dRAB_L1MU8F_TAU12IM_XE35',\n",
    "    'HLT_e17_lhmedium_tau25_mediumRNN_tracktwoMVA_xe50_cell_03dRAB_L1EM15VHI_2TAU12IM_XE35',\n",
    "    'HLT_tau60_mediumRNN_tracktwoMVA_tau25_mediumRNN_tracktwoMVA_xe50_cell_03dRAB_L1TAU40_2TAU12IM_XE40',\n",
    "    'HLT_j420_pf_ftf_preselj225_L1J100',\n",
    "    'HLT_j400_pf_ftf_preselj225_L1J100',\n",
    "    'HLT_j220f_L1J75p31ETA49',\n",
    "    'HLT_j460_a10sd_cssk_pf_jes_ftf_preselj225_L1J100',\n",
    "    'HLT_j460_a10sd_cssk_pf_jes_ftf_preselj225_L1SC111-CJ15',\n",
    "    'HLT_j460_a10t_lcw_jes_L1J100',\n",
    "    'HLT_j460_a10t_lcw_jes_L1SC111-CJ15',\n",
    "    'HLT_j460_a10r_L1J100',\n",
    "    'HLT_j460_a10r_L1SC111-CJ15',\n",
    "    'HLT_j460_a10_lcw_subjes_L1J100',\n",
    "    'HLT_j460_a10_lcw_subjes_L1SC111-CJ15',\n",
    "    'HLT_j420_35smcINF_a10sd_cssk_pf_jes_ftf_preselj225_L1J100',\n",
    "    'HLT_j420_35smcINF_a10sd_cssk_pf_jes_ftf_preselj225_L1SC111-CJ15',\n",
    "    'HLT_j420_35smcINF_a10t_lcw_jes_L1J100',\n",
    "    'HLT_j420_35smcINF_a10t_lcw_jes_L1SC111-CJ15',\n",
    "    'HLT_j0_HT1000_L1HT190-J15s5pETA21',\n",
    "    'HLT_j0_HT1000_L1J100',\n",
    "    'HLT_j0_HT1000_pf_ftf_preselcHT450_L1HT190-J15s5pETA21',\n",
    "    'HLT_j0_HT940_pf_ftf_preselcHT450_L1HT190-J15s5pETA21',\n",
    "    'HLT_j0_HT1000_pf_ftf_preselj180_L1HT190-J15s5pETA21',\n",
    "    'HLT_j0_HT940_pf_ftf_preselj180_L1HT190-J15s5pETA21',\n",
    "    'HLT_j0_HT1000_pf_ftf_preselj180_L1J100',\n",
    "    'HLT_2j250c_j120c_pf_ftf_presel2j180XXj80_L1J100',\n",
    "    'HLT_3j200_pf_ftf_L1J100',\n",
    "    'HLT_4j115_pf_ftf_presel4j85_L13J50',\n",
    "    'HLT_4j110_pf_ftf_presel4j85_L13J50',\n",
    "    'HLT_4j120_L13J50',\n",
    "    'HLT_5j70c_pf_ftf_presel5c50_L14J15',\n",
    "    'HLT_5j65c_pf_ftf_presel5c55_L14J15',\n",
    "    'HLT_5j85_pf_ftf_presel5j50_L14J15',\n",
    "    'HLT_5j80_pf_ftf_presel5j50_L14J15',\n",
    "    'HLT_5j80_pf_ftf_presel5j55_L14J15',\n",
    "    'HLT_6j35c_020jvt_pf_ftf_presel6c25_L14J15+',\n",
    "    'HLT_6j55c_pf_ftf_presel6j40_L14J15',\n",
    "    'HLT_6j70_pf_ftf_presel6j40_L14J15',\n",
    "    'HLT_7j45_pf_ftf_presel7j30_L14J15',\n",
    "    'HLT_10j40_pf_ftf_presel7j30_L14J15',\n",
    "    'HLT_2j330_35smcINF_a10sd_cssk_pf_jes_ftf_presel2j225_L1J100',\n",
    "    'HLT_2j330_35smcINF_a10sd_cssk_pf_jes_ftf_presel2j225_L1SC111-CJ15',\n",
    "    'HLT_2j330_35smcINF_a10t_lcw_jes_L1J100',\n",
    "    'HLT_2j330_35smcINF_a10t_lcw_jes_L1SC111-CJ15',\n",
    "    'HLT_j360_60smcINF_j360_a10sd_cssk_pf_jes_ftf_presel2j225_L1SC111-CJ15',\n",
    "    'HLT_j360_60smcINF_j360_a10t_lcw_jes_L1SC111-CJ15',\n",
    "    'HLT_j370_35smcINF_j370_a10sd_cssk_pf_jes_ftf_presel2j225_L1SC111-CJ15',\n",
    "    'HLT_j370_35smcINF_j370_a10t_lcw_jes_L1SC111-CJ15',\n",
    "    'HLT_j210_0eta290_020jvt_bgn170_pf_ftf_preselj180_L1J100',\n",
    "    'HLT_j280_0eta290_020jvt_bgn177_pf_ftf_preselj225_L1J100',\n",
    "    'HLT_j340_0eta290_020jvt_bgn185_pf_ftf_preselj225_L1J100',\n",
    "    'HLT_j50_0eta290_020jvt_bgn170_2j45f_pf_ftf_preselj45XX2f40_L1J25p0ETA23_2J15p31ETA49',\n",
    "    'HLT_j80_0eta290_020jvt_bgn170_j60_0eta290_020jvt_bgn185_j45f_pf_ftf_preselj60XXj45XXf40_L1J40p0ETA25_2J25_J20p31ETA49',\n",
    "    'HLT_j75c_j55_j45f_SHARED_2j45_0eta290_020jvt_bgn160_pf_ftf_preselc60XXj45XXf40_L1J40p0ETA25_2J25_J20p31ETA49',\n",
    "    'HLT_g25_medium_4j35a_j0_DJMASS1000j35_L1eEM26M',\n",
    "    'HLT_g20_tight_j35_0eta290_020jvt_bgn177_3j35a_j0_DJMASS500j35_pf_ftf_L1EM18VHI_MJJ-300',\n",
    "    'HLT_g25_tight_2j35_0eta290_020jvt_bgn177_­2j35a_pf_ftf_presel2a20b90XX2a20_L1eEM26M',\n",
    "    'HLT_g25_tight_j35_0eta290_020jvt_bgn177_3j35a_j0_­DJMASS700j35_pf_ftf_­presela20b85XX3a20_­L1eEM26M',\n",
    "    'HLT_e25_mergedtight_g35_medium_90invmAB_02dRAB_L12eEM24L',\n",
    "    'HLT_g35_medium_tau25_dipion3_tracktwoMVA_L1TAU12_60invmAB_L1eEM26M',\n",
    "    'HLT_g25_medium_tau25_singlepion_tracktwoMVA_50invmAB_L1eEM26M',\n",
    "    'HLT_g25_medium_tau25_dipion1_tracktwoMVA_50invmAB_L1eEM26M',\n",
    "    'HLT_g25_medium_tau25_dipion2_tracktwoMVA_50invmAB_L1eEM26M',\n",
    "    'HLT_g25_medium_tau25_dikaonmass_tracktwoMVA_50invmAB_L1eEM26M',\n",
    "    'HLT_g25_medium_tau25_kaonpi1_tracktwoMVA_50invmAB_L1eEM26M',\n",
    "    'HLT_g25_medium_tau25_kaonpi2_tracktwoMVA_50invmAB_L1eEM26M',\n",
    "    'HLT_j75c_020jvt_j50c_020jvt_j25c_020jvt_j20c_020jvt_SHARED_3j20c_020jvt_bgn182_pf_ftf_presel2c20XX2c20b85_L1J45p0ETA21_3J15p0ETA25',\n",
    "    'HLT_j75c_020jvt_j50c_020jvt_j25c_020jvt_j20c_020jvt_SHARED_2j20c_020jvt_bgn177_pf_ftf_presel2c20XX2c20b85_L1J45p0ETA21_3J15p0ETA25',\n",
    "    'HLT_j75c_020jvt_j50c_020jvt_j25c_020jvt_j20c_020jvt_SHARED_2j20c_020jvt_bgn177_pf_ftf_presel2c20XX2c20b85_L1MU8F_2J15_J20'\n",
    "]"
   ]
  },
  {
   "cell_type": "code",
   "execution_count": 6,
   "id": "72a8c686",
   "metadata": {},
   "outputs": [],
   "source": [
    "def sort_and_pad(in_data, max_objects):\n",
    "    \"\"\"input an object of size (4, num_objects), as well as the maximum number of objects wanted.\n",
    "    in_data[0] corresponds to the pt array, and the other three are E, eta, phi.\"\"\"\n",
    "    \n",
    "    indices = np.argsort(in_data[0])[-max_objects:][::-1] # indices that sort the in_data by pt\n",
    "    arrs = []\n",
    "    for array in in_data:\n",
    "\n",
    "        # Sorting\n",
    "        sorted_arr = array[indices]\n",
    "\n",
    "        # Padding\n",
    "        if len(array) < max_objects:\n",
    "            sorted_arr = np.concatenate((sorted_arr, np.zeros(max_objects - len(array))))\n",
    "\n",
    "        arrs.append(sorted_arr)\n",
    "        \n",
    "    \n",
    "    arrs = np.array(arrs).T\n",
    "    return np.array(arrs)"
   ]
  },
  {
   "cell_type": "code",
   "execution_count": 7,
   "id": "84df0fd3",
   "metadata": {},
   "outputs": [],
   "source": [
    "def make_mask(min_pt, max_eta, pt, eta):\n",
    "    \"\"\"Make a mask on pt and eta of event, in case I want to make any data cuts.\"\"\"\n",
    "\n",
    "    return [(pt > MIN_JET_PT) and (abs(eta) < MAX_ETA) for pt, eta in zip(pt, eta)]"
   ]
  },
  {
   "cell_type": "code",
   "execution_count": 8,
   "id": "b47eb73d-d2ef-4751-b00e-a112235b5213",
   "metadata": {},
   "outputs": [],
   "source": [
    "def get_data(event, c_name, vars=['pt', 'm', 'eta', 'phi'], mask=None):\n",
    "    \"\"\"\n",
    "    Extracts and processes data from a specified container within an event.\n",
    "\n",
    "    event: The event object containing the data.\n",
    "    c_name: Name of the container to get the data from.\n",
    "    vars: List of the variables to pull from the container.\n",
    "    mask: The mask to apply to the data, if applicable.\n",
    "    max_objects: Maximum number of objects to retain after sorting and padding.\n",
    "    return: Processed data from the specified container, after being sorted and padded.\n",
    "    \"\"\"\n",
    "    data = []\n",
    "    for var in vars:\n",
    "        full_var_name = f\"{c_name}_{var}\"\n",
    "        var_data = getattr(event, full_var_name)\n",
    "\n",
    "        if mask is not None:\n",
    "            masked_data = np.asarray([x for x, m in zip(var_data, mask) if m])\n",
    "        else:\n",
    "            masked_data = np.asarray([x for x in var_data]) # for some reason this syntax runs way faster!?\n",
    "\n",
    "        data.append(masked_data)\n",
    "    return data\n",
    "    #return sort_and_pad(data, max_objects=max_objects)\n",
    "\n",
    "# Usage example:\n",
    "# jet_data = get_data(event, 'HLT_jet', vars=['pt', 'E', 'eta', 'phi'], mask=jet_mask, max_objects=NUM_JETS)"
   ]
  },
  {
   "cell_type": "code",
   "execution_count": 9,
   "id": "ebbfc94a-b2e6-4bae-b47f-02909324f2c3",
   "metadata": {},
   "outputs": [],
   "source": [
    "def make_ntuples(tree, h5_path, dataset_name):\n",
    "    \n",
    "    # Define empty arrays to be filled\n",
    "    HLT_jet_list = []\n",
    "    el_list = []\n",
    "    LRT_el_list = []\n",
    "    muon_list = []\n",
    "    LRT_muon_list = []\n",
    "    ph_list = []\n",
    "    MET_list = []\n",
    "    ev_lb_list = []\n",
    "    pass_L1_unprescaled = []\n",
    "    pass_HLT_unprescaled = []\n",
    "    L1_egamma_list = []\n",
    "    L1_muon_list = []\n",
    "    L1_eFex_tau_list = []\n",
    "    L1_jFex_tau_list = []\n",
    "    L1_MET_list = []\n",
    "    L1_jFexSR_jet_list = []\n",
    "    L1_jFexLR_jet_list = []\n",
    "    \n",
    "    for i, event in enumerate(tree):\n",
    "        if i >= 1000000: break\n",
    "        \n",
    "        # HLT Jets\n",
    "        HLT_jet_data = get_data(event, 'HLT_jet', vars=['pt', 'E', 'eta', 'phi'])\n",
    "        # HLT_jet_data = get_data(event, 'HLT_jet', vars=['pt', 'E', 'eta', 'phi'], mask=jet_mask)\n",
    "        HLT_jet_list.append(sort_and_pad(HLT_jet_data, max_objects=NUM_JETS))\n",
    "\n",
    "        # L1 SR Jets\n",
    "        L1_jFexSR_jet_data = get_data(event, 'L1_jFexSRJet', vars=['et', 'eta', 'phi'])\n",
    "        L1_jFexSR_jet_list.append(sort_and_pad(L1_jFexSR_jet_data, max_objects=NUM_JETS))\n",
    "\n",
    "        # L1 LR Jets\n",
    "        L1_jFexLR_jet_data = get_data(event, 'L1_jFexLRJet', vars=['et', 'eta', 'phi'])\n",
    "        L1_jFexLR_jet_list.append(sort_and_pad(L1_jFexLR_jet_data, max_objects=NUM_JETS))\n",
    "    \n",
    "        # Electrons\n",
    "        el_data = get_data(event, 'HLT_el', vars=['pt', 'm', 'eta', 'phi'])\n",
    "        el_list.append(sort_and_pad(el_data, max_objects=NUM_ELECTRONS))\n",
    "    \n",
    "        # LRT Electrons\n",
    "        LRT_el_data = get_data(event, 'HLT_el_LRT', vars=['pt', 'm', 'eta', 'phi'])\n",
    "        LRT_el_list.append(sort_and_pad(LRT_el_data, max_objects=NUM_ELECTRONS))\n",
    "\n",
    "        # L1 Egammas\n",
    "        L1_egammas_data = get_data(event, 'L1Egamma', vars=['et', 'eta', 'phi'])\n",
    "        L1_egamma_list.append(sort_and_pad(L1_egammas_data, max_objects=NUM_ELECTRONS))\n",
    "    \n",
    "        # Muons\n",
    "        muon_data = get_data(event, 'HLT_muon', vars=['pt', 'm', 'eta', 'phi'])\n",
    "        muon_list.append(sort_and_pad(muon_data, max_objects=NUM_ELECTRONS))\n",
    "    \n",
    "        # LRT Muons\n",
    "        LRT_muon_data = get_data(event, 'HLT_muon_LRT', vars=['pt', 'm', 'eta', 'phi'])\n",
    "        LRT_muon_list.append(sort_and_pad(LRT_muon_data, max_objects=NUM_ELECTRONS))\n",
    "\n",
    "        # L1 Muons\n",
    "        L1_muon_data = get_data(event, 'L1Muon', vars=['et', 'eta', 'phi'])\n",
    "        L1_muon_list.append(sort_and_pad(L1_muon_data, max_objects=NUM_ELECTRONS))\n",
    "        \n",
    "        # Photons\n",
    "        ph_data = get_data(event, 'HLT_ph', vars=['pt', 'm', 'eta', 'phi'])\n",
    "        ph_list.append(sort_and_pad(ph_data, max_objects=NUM_ELECTRONS))\n",
    "\n",
    "        # L1 eTaus \n",
    "        L1_eFex_tau_data = get_data(event, 'L1Tau_eFex', vars=['et', 'eta', 'phi'])\n",
    "        L1_eFex_tau_list.append(sort_and_pad(L1_eFex_tau_data, max_objects=NUM_ELECTRONS))\n",
    "\n",
    "        # L1 jTaus \n",
    "        L1_jFex_tau_data = get_data(event, 'L1Tau_jFex', vars=['et', 'eta', 'phi'])\n",
    "        L1_jFex_tau_list.append(sort_and_pad(L1_jFex_tau_data, max_objects=NUM_ELECTRONS))\n",
    "    \n",
    "        # HLT MET\n",
    "        MET_data = [np.float32(event.trigmetMet), 0, 0, np.float32(event.trigmetMetPhi)]\n",
    "        MET_list.append(MET_data)\n",
    "\n",
    "        # L1 MET\n",
    "        L1_MET_data = [np.float32(event.L1METMet), 0, np.float32(event.L1METMetPhi)]\n",
    "        L1_MET_list.append(L1_MET_data)\n",
    "    \n",
    "        # Trigger Decisions\n",
    "        trig_data = [str(trigger) for trigger in event.passedTriggers]\n",
    "    \n",
    "        # Check if the event passed any of the unprescaled physics triggers from the list:\n",
    "        pass_L1_unprescaled.append(1*any(trigger in L1_save_trigs for trigger in trig_data)) # 0=no 1=yes\n",
    "    \n",
    "        # Check if the event passed any of the unprescaled physics triggers from the list:\n",
    "        pass_HLT_unprescaled.append(1*any(trigger in HLT_save_trigs for trigger in trig_data)) # 0=no 1=yes\n",
    "        \n",
    "    \n",
    "        # Print progress\n",
    "        if (i % 10000) == 1:\n",
    "            print(f'Progress: {i} / {nevents}')\n",
    "\n",
    "    # Write to h5\n",
    "    with h5py.File(f'{h5_path}/{dataset_name}_07-17-2024.h5', 'w') as hf:\n",
    "        hf.create_dataset(\"HLT_jets\", data=np.array(HLT_jet_list))\n",
    "        hf.create_dataset(\"L1_jFexSR_jets\", data=np.array(L1_jFexSR_jet_list))\n",
    "        hf.create_dataset(\"L1_jFexLR_jets\", data=np.array(L1_jFexLR_jet_list))\n",
    "        hf.create_dataset(\"HLT_electrons\", data=np.array(el_list))\n",
    "        hf.create_dataset(\"LRT_electrons\", data=np.array(LRT_el_list))\n",
    "        hf.create_dataset(\"L1_egammas\", data=np.array(L1_egamma_list))\n",
    "        hf.create_dataset(\"HLT_muons\", data=np.array(muon_list))\n",
    "        hf.create_dataset(\"LRT_muons\", data=np.array(LRT_muon_list))\n",
    "        hf.create_dataset(\"L1_muons\", data=np.array(L1_muon_list))\n",
    "        hf.create_dataset(\"L1_eFex_taus\", data=np.array(L1_eFex_tau_list))\n",
    "        hf.create_dataset(\"L1_jFex_taus\", data=np.array(L1_jFex_tau_list))\n",
    "        hf.create_dataset(\"HLT_photons\", data=np.array(ph_list))\n",
    "        hf.create_dataset(\"HLT_MET\", data=np.array(MET_list))\n",
    "        hf.create_dataset(\"L1_MET\", data=np.array(L1_MET_list))\n",
    "        hf.create_dataset(\"pass_L1_unprescaled\", data=np.array(pass_L1_unprescaled))\n",
    "        hf.create_dataset(\"pass_HLT_unprescaled\", data=np.array(pass_HLT_unprescaled))"
   ]
  },
  {
   "cell_type": "code",
   "execution_count": 10,
   "id": "c7329f29",
   "metadata": {},
   "outputs": [
    {
     "name": "stdout",
     "output_type": "stream",
     "text": [
      "Starting processing of jjJZ4 with 650000 events!\n",
      "Progress: 1 / 650000\n",
      "Progress: 10001 / 650000\n",
      "Progress: 20001 / 650000\n",
      "Progress: 30001 / 650000\n",
      "Progress: 40001 / 650000\n",
      "Progress: 50001 / 650000\n",
      "Progress: 60001 / 650000\n",
      "Progress: 70001 / 650000\n",
      "Progress: 80001 / 650000\n",
      "Progress: 90001 / 650000\n",
      "Progress: 100001 / 650000\n",
      "Progress: 110001 / 650000\n",
      "Progress: 120001 / 650000\n",
      "Progress: 130001 / 650000\n",
      "Progress: 140001 / 650000\n",
      "Progress: 150001 / 650000\n",
      "Progress: 160001 / 650000\n",
      "Progress: 170001 / 650000\n",
      "Progress: 180001 / 650000\n",
      "Progress: 190001 / 650000\n",
      "Progress: 200001 / 650000\n",
      "Progress: 210001 / 650000\n",
      "Progress: 220001 / 650000\n",
      "Progress: 230001 / 650000\n",
      "Progress: 240001 / 650000\n",
      "Progress: 250001 / 650000\n",
      "Progress: 260001 / 650000\n",
      "Progress: 270001 / 650000\n",
      "Progress: 280001 / 650000\n",
      "Progress: 290001 / 650000\n",
      "Progress: 300001 / 650000\n",
      "Progress: 310001 / 650000\n",
      "Progress: 320001 / 650000\n",
      "Progress: 330001 / 650000\n",
      "Progress: 340001 / 650000\n",
      "Progress: 350001 / 650000\n",
      "Progress: 360001 / 650000\n",
      "Progress: 370001 / 650000\n",
      "Progress: 380001 / 650000\n",
      "Progress: 390001 / 650000\n",
      "Progress: 400001 / 650000\n",
      "Progress: 410001 / 650000\n",
      "Progress: 420001 / 650000\n",
      "Progress: 430001 / 650000\n",
      "Progress: 440001 / 650000\n",
      "Progress: 450001 / 650000\n",
      "Progress: 460001 / 650000\n",
      "Progress: 470001 / 650000\n",
      "Progress: 480001 / 650000\n",
      "Progress: 490001 / 650000\n",
      "Progress: 500001 / 650000\n",
      "Progress: 510001 / 650000\n",
      "Progress: 520001 / 650000\n",
      "Progress: 530001 / 650000\n",
      "Progress: 540001 / 650000\n",
      "Progress: 550001 / 650000\n",
      "Progress: 560001 / 650000\n",
      "Progress: 570001 / 650000\n",
      "Progress: 580001 / 650000\n",
      "Progress: 590001 / 650000\n",
      "Progress: 600001 / 650000\n",
      "Progress: 610001 / 650000\n",
      "Progress: 620001 / 650000\n",
      "Progress: 630001 / 650000\n",
      "Progress: 640001 / 650000\n",
      "Starting processing of qqa with 50000 events!\n",
      "Progress: 1 / 50000\n",
      "Progress: 10001 / 50000\n",
      "Progress: 20001 / 50000\n",
      "Progress: 30001 / 50000\n",
      "Progress: 40001 / 50000\n"
     ]
    }
   ],
   "source": [
    "base_dir = '/eos/home-m/mmcohen/ntuples/MC_trees_07-17-2024'\n",
    "for subdir in os.listdir(base_dir):\n",
    "    subdir_path = os.path.join(base_dir, subdir)\n",
    "    if os.path.isdir(subdir_path):\n",
    "        root_file = os.listdir(subdir_path)[0] # each dir contains only one file\n",
    "        file_path = os.path.join(subdir_path, root_file)\n",
    "        dataset_name = subdir.split('_')[0].split('.')[-1]\n",
    "        if 'JZ4' not in dataset_name and 'qqa' not in dataset_name: continue\n",
    "        \n",
    "        # Process the data\n",
    "        f = ROOT.TFile.Open(file_path)\n",
    "        td = f.Get(\"EB_Tree\")\n",
    "        tree = td.Get(\"nominal\")\n",
    "        nevents = tree.GetEntries() # number of events\n",
    "        print(f'Starting processing of {dataset_name} with {nevents} events!')\n",
    "        make_ntuples(tree, h5_path='/eos/home-m/mmcohen/ntuples/MC_07-17-2024', dataset_name=dataset_name)"
   ]
  },
  {
   "cell_type": "code",
   "execution_count": 23,
   "id": "32f6a681-a734-4aa5-b0d2-b8026c17b329",
   "metadata": {},
   "outputs": [
    {
     "name": "stdout",
     "output_type": "stream",
     "text": [
      "Starting processing with 5000 events!\n",
      "Progress: 1 / 5000\n"
     ]
    }
   ],
   "source": [
    "# file_path = '/eos/home-m/mmcohen/git_repos/TLA/tla-steering-run-3/data/trees/MC_local_07-15-2024_v2_-1/data-tree/mc23_valid.801167.Py8EG_A14NNPDF23LO_jj_JZ2.merge.AOD.e8514_e8516_s4041_s4055_r14332_r14394.root'\n",
    "# f = ROOT.TFile.Open(file_path)\n",
    "# td = f.Get(\"EB_Tree\")\n",
    "# tree = td.Get(\"nominal\")\n",
    "# nevents = tree.GetEntries() # number of events\n",
    "# print(f'Starting processing with {nevents} events!')\n",
    "# make_ntuples(tree, h5_path='./', dataset_name='localv2')"
   ]
  },
  {
   "cell_type": "markdown",
   "id": "176813f7",
   "metadata": {},
   "source": [
    "# ___________________"
   ]
  },
  {
   "cell_type": "code",
   "execution_count": null,
   "id": "3f9072f0-07d9-4e5a-9d72-e73a1bcf0166",
   "metadata": {},
   "outputs": [],
   "source": []
  },
  {
   "cell_type": "code",
   "execution_count": null,
   "id": "a4765670-a2bc-440d-9675-64be788b7abc",
   "metadata": {},
   "outputs": [],
   "source": []
  },
  {
   "cell_type": "code",
   "execution_count": 32,
   "id": "4f2762a5",
   "metadata": {},
   "outputs": [],
   "source": [
    "# with h5py.File('../ntuples/L1_MC/ZZ4lep_05-30-2024.h5', 'w') as hf:\n",
    "#     hf.create_dataset(\"HLT_jets\", data=np.array(HLT_jet_list))\n",
    "#     hf.create_dataset(\"L1_jFexSR_jets\", data=np.array(L1_jFexSR_jet_list))\n",
    "#     hf.create_dataset(\"L1_jFexLR_jets\", data=np.array(L1_jFexLR_jet_list))\n",
    "#     hf.create_dataset(\"HLT_electrons\", data=np.array(el_list))\n",
    "#     hf.create_dataset(\"LRT_electrons\", data=np.array(LRT_el_list))\n",
    "#     hf.create_dataset(\"L1_egammas\", data=np.array(L1_egamma_list))\n",
    "#     hf.create_dataset(\"HLT_muons\", data=np.array(muon_list))\n",
    "#     hf.create_dataset(\"LRT_muons\", data=np.array(LRT_muon_list))\n",
    "#     hf.create_dataset(\"L1_muons\", data=np.array(L1_muon_list))\n",
    "#     hf.create_dataset(\"L1_eFex_taus\", data=np.array(L1_eFex_tau_list))\n",
    "#     hf.create_dataset(\"L1_jFex_taus\", data=np.array(L1_jFex_tau_list))\n",
    "#     hf.create_dataset(\"HLT_photons\", data=np.array(ph_list))\n",
    "#     hf.create_dataset(\"HLT_MET\", data=np.array(MET_list))\n",
    "#     hf.create_dataset(\"L1_MET\", data=np.array(L1_MET_list))\n",
    "#     hf.create_dataset(\"pass_L1_unprescaled\", data=np.array(pass_L1_unprescaled))\n",
    "#     hf.create_dataset(\"pass_HLT_unprescaled\", data=np.array(pass_HLT_unprescaled))"
   ]
  },
  {
   "cell_type": "code",
   "execution_count": 24,
   "id": "360aa9c0",
   "metadata": {},
   "outputs": [],
   "source": [
    "# Read file\n",
    "with h5py.File('./localv2_07-15-2024.h5', 'r') as hf:\n",
    "    HLT_jets = hf['HLT_jets'][:]\n",
    "    L1_jFexSR_jets = hf['L1_jFexSR_jets'][:]\n",
    "    L1_jFexLR_jets = hf['L1_jFexLR_jets'][:]\n",
    "    HLT_electrons = hf['HLT_electrons'][:]\n",
    "    LRT_electrons = hf['LRT_electrons'][:]\n",
    "    L1_egammas = hf['L1_egammas'][:]\n",
    "    HLT_muons = hf['HLT_muons'][:]\n",
    "    LRT_muons = hf['LRT_muons'][:]\n",
    "    L1_muons = hf['L1_muons'][:]\n",
    "    L1_eFex_taus = hf['L1_eFex_taus'][:]\n",
    "    L1_jFex_taus = hf['L1_jFex_taus'][:]\n",
    "    HLT_photons = hf['HLT_photons'][:]\n",
    "    HLT_MET = hf['HLT_MET'][:].reshape(-1, 1, 4)  # Broadcasting MET\n",
    "    L1_MET = hf['L1_MET'][:].reshape(-1, 1, 3)\n",
    "    pass_L1_unprescaled = hf[\"pass_L1_unprescaled\"][:]\n",
    "    pass_HLT_unprescaled = hf[\"pass_HLT_unprescaled\"][:]"
   ]
  },
  {
   "cell_type": "code",
   "execution_count": 25,
   "id": "90da6226-4f46-47dd-86a1-dd4118b382e2",
   "metadata": {},
   "outputs": [
    {
     "name": "stdout",
     "output_type": "stream",
     "text": [
      "HLT jets: (5000, 10, 4)\n",
      "L1_jFexSR_jets: (5000, 10, 3)\n",
      "L1_jFexLR_jets: (5000, 10, 3)\n",
      "HLT electrons: (5000, 6, 4)\n",
      "LRT_electrons: (5000, 6, 4)\n",
      "L1 egammas: (5000, 6, 3)\n",
      "HLT muons: (5000, 6, 4)\n",
      "LRT_muons: (5000, 6, 4)\n",
      "L1 muons: (5000, 6, 3)\n",
      "L1_eFex_taus: (5000, 6, 3)\n",
      "L1_jFex_taus: (5000, 6, 3)\n",
      "HLT photons: (5000, 6, 4)\n",
      "HLT MET: (5000, 1, 4)\n",
      "L1 MET: (5000, 1, 3)\n",
      "pass_L1_unprescaled: (5000,)\n",
      "pass_HLT_unprescaled: (5000,)\n"
     ]
    }
   ],
   "source": [
    "print(f'HLT jets: {HLT_jets.shape}')\n",
    "print(f'L1_jFexSR_jets: {L1_jFexSR_jets.shape}')\n",
    "print(f'L1_jFexLR_jets: {L1_jFexLR_jets.shape}')\n",
    "print(f'HLT electrons: {HLT_electrons.shape}')\n",
    "print(f'LRT_electrons: {LRT_electrons.shape}')\n",
    "print(f'L1 egammas: {L1_egammas.shape}')\n",
    "print(f'HLT muons: {HLT_muons.shape}')\n",
    "print(f'LRT_muons: {LRT_muons.shape}')\n",
    "print(f'L1 muons: {L1_muons.shape}')\n",
    "print(f'L1_eFex_taus: {L1_eFex_taus.shape}')\n",
    "print(f'L1_jFex_taus: {L1_jFex_taus.shape}')\n",
    "print(f'HLT photons: {HLT_photons.shape}')\n",
    "print(f'HLT MET: {HLT_MET.shape}')\n",
    "print(f'L1 MET: {L1_MET.shape}')\n",
    "print(f'pass_L1_unprescaled: {pass_L1_unprescaled.shape}')\n",
    "print(f'pass_HLT_unprescaled: {pass_HLT_unprescaled.shape}')"
   ]
  },
  {
   "cell_type": "markdown",
   "id": "bfae6158-7ca4-4962-a05d-8c0c83163292",
   "metadata": {},
   "source": [
    "## These plots were flipping phi when fpgaNumber == 3"
   ]
  },
  {
   "cell_type": "code",
   "execution_count": 20,
   "id": "13a435ee",
   "metadata": {},
   "outputs": [
    {
     "data": {
      "image/png": "[encoded data removed]",
      "text/plain": [
       "<Figure size 1008x576 with 2 Axes>"
      ]
     },
     "metadata": {
      "needs_background": "light"
     },
     "output_type": "display_data"
    }
   ],
   "source": [
    "import matplotlib.pyplot as plt\n",
    "import matplotlib\n",
    "\n",
    "plt.figure(figsize=(14, 8))\n",
    "plt.rcParams['axes.linewidth'] = 2.4\n",
    "\n",
    "mask = HLT_MET[:, 0, 0] == -999\n",
    "plt.hist2d(HLT_MET[:, 0, -1][~mask], L1_MET[:, 0, -1][~mask], bins=35, cmap='viridis', norm=matplotlib.colors.LogNorm())\n",
    "plt.colorbar()\n",
    "plt.xlabel(f'HLT MET', fontsize=16)\n",
    "plt.ylabel(f'L1 MET', fontsize=16)\n",
    "plt.title(f'HLT vs L1 MET phi', fontsize=18)\n",
    "plt.show()"
   ]
  },
  {
   "cell_type": "code",
   "execution_count": 21,
   "id": "f5c4169a-1ddb-4ea2-955a-a72f3656a493",
   "metadata": {},
   "outputs": [
    {
     "data": {
      "image/png": "[encoded data removed]",
      "text/plain": [
       "<Figure size 1008x576 with 2 Axes>"
      ]
     },
     "metadata": {
      "needs_background": "light"
     },
     "output_type": "display_data"
    }
   ],
   "source": [
    "import matplotlib.pyplot as plt\n",
    "import matplotlib\n",
    "\n",
    "plt.figure(figsize=(14, 8))\n",
    "plt.rcParams['axes.linewidth'] = 2.4\n",
    "\n",
    "mask = HLT_MET[:, 0, 0] == -999\n",
    "plt.hist2d(HLT_MET[:, 0, 0][~mask], L1_MET[:, 0, 0][~mask], bins=35, cmap='viridis', norm=matplotlib.colors.LogNorm())\n",
    "plt.colorbar()\n",
    "plt.xlabel(f'HLT MET', fontsize=16)\n",
    "plt.ylabel(f'L1 MET', fontsize=16)\n",
    "plt.title(f'HLT vs L1 MET pt', fontsize=18)\n",
    "plt.show()"
   ]
  },
  {
   "cell_type": "code",
   "execution_count": 22,
   "id": "8fa768dd-bea0-40f4-bcca-bf34b3f21694",
   "metadata": {},
   "outputs": [
    {
     "data": {
      "image/png": "[encoded data removed]",
      "text/plain": [
       "<Figure size 1008x576 with 1 Axes>"
      ]
     },
     "metadata": {
      "needs_background": "light"
     },
     "output_type": "display_data"
    }
   ],
   "source": [
    "plt.figure(figsize=(14, 8))\n",
    "\n",
    "#plt.hist(dataset[data_name]['HLT_data'][:, idx_1[object], idx_2[var]][HLT_mask], bins=bins[var], label='HLT_data', histtype='step', density=True, fill=False, linewidth=3, weights=dataset[data_name]['weights'][HLT_mask])\n",
    "plt.hist(L1_MET[:, 0, -1], bins=35, label='L1_MET_phi', histtype='step', density=True, fill=False, linewidth=3)\n",
    "\n",
    "plt.yscale('log')\n",
    "plt.xlabel(f'MET phi', fontsize=22)\n",
    "plt.ylabel('density', fontsize=22)\n",
    "plt.title(f'L1 Met Phi', fontsize=30)\n",
    "plt.grid()\n",
    "#plt.legend(fontsize=18)\n",
    "plt.show()"
   ]
  },
  {
   "cell_type": "markdown",
   "id": "11b5c302-b9d9-4d09-93be-b601d297d65e",
   "metadata": {},
   "source": [
    "## Okay now let's try out flipping when fpgaNumber == 0"
   ]
  },
  {
   "cell_type": "code",
   "execution_count": 26,
   "id": "2efd6fe1-efed-49d3-a624-7048d98e47e3",
   "metadata": {},
   "outputs": [
    {
     "data": {
      "image/png": "[encoded data removed]",
      "text/plain": [
       "<Figure size 1008x576 with 2 Axes>"
      ]
     },
     "metadata": {
      "needs_background": "light"
     },
     "output_type": "display_data"
    }
   ],
   "source": [
    "import matplotlib.pyplot as plt\n",
    "import matplotlib\n",
    "\n",
    "plt.figure(figsize=(14, 8))\n",
    "plt.rcParams['axes.linewidth'] = 2.4\n",
    "\n",
    "mask = HLT_MET[:, 0, 0] == -999\n",
    "plt.hist2d(HLT_MET[:, 0, -1][~mask], L1_MET[:, 0, -1][~mask], bins=35, cmap='viridis', norm=matplotlib.colors.LogNorm())\n",
    "plt.colorbar()\n",
    "plt.xlabel(f'HLT MET', fontsize=16)\n",
    "plt.ylabel(f'L1 MET', fontsize=16)\n",
    "plt.title(f'HLT vs L1 MET phi', fontsize=18)\n",
    "plt.show()"
   ]
  },
  {
   "cell_type": "code",
   "execution_count": 27,
   "id": "b05ced69-301e-42ee-a867-ad6b032e188d",
   "metadata": {},
   "outputs": [
    {
     "data": {
      "image/png": "[encoded data removed]",
      "text/plain": [
       "<Figure size 1008x576 with 2 Axes>"
      ]
     },
     "metadata": {
      "needs_background": "light"
     },
     "output_type": "display_data"
    }
   ],
   "source": [
    "import matplotlib.pyplot as plt\n",
    "import matplotlib\n",
    "\n",
    "plt.figure(figsize=(14, 8))\n",
    "plt.rcParams['axes.linewidth'] = 2.4\n",
    "\n",
    "mask = HLT_MET[:, 0, 0] == -999\n",
    "plt.hist2d(HLT_MET[:, 0, 0][~mask], L1_MET[:, 0, 0][~mask], bins=35, cmap='viridis', norm=matplotlib.colors.LogNorm())\n",
    "plt.colorbar()\n",
    "plt.xlabel(f'HLT MET', fontsize=16)\n",
    "plt.ylabel(f'L1 MET', fontsize=16)\n",
    "plt.title(f'HLT vs L1 MET pt', fontsize=18)\n",
    "plt.show()"
   ]
  },
  {
   "cell_type": "code",
   "execution_count": 28,
   "id": "5c20bf23-7743-4124-98b0-3bd40df16d47",
   "metadata": {},
   "outputs": [
    {
     "data": {
      "image/png": "[encoded data removed]",
      "text/plain": [
       "<Figure size 1008x576 with 1 Axes>"
      ]
     },
     "metadata": {
      "needs_background": "light"
     },
     "output_type": "display_data"
    }
   ],
   "source": [
    "plt.figure(figsize=(14, 8))\n",
    "\n",
    "#plt.hist(dataset[data_name]['HLT_data'][:, idx_1[object], idx_2[var]][HLT_mask], bins=bins[var], label='HLT_data', histtype='step', density=True, fill=False, linewidth=3, weights=dataset[data_name]['weights'][HLT_mask])\n",
    "plt.hist(L1_MET[:, 0, -1], bins=35, label='L1_MET_phi', histtype='step', density=True, fill=False, linewidth=3)\n",
    "\n",
    "plt.yscale('log')\n",
    "plt.xlabel(f'MET phi', fontsize=22)\n",
    "plt.ylabel('density', fontsize=22)\n",
    "plt.title(f'L1 Met Phi', fontsize=30)\n",
    "plt.grid()\n",
    "#plt.legend(fontsize=18)\n",
    "plt.show()"
   ]
  },
  {
   "cell_type": "code",
   "execution_count": null,
   "id": "33f9d691-eca6-4c22-983f-b776536d0939",
   "metadata": {},
   "outputs": [],
   "source": []
  }
 ],
 "metadata": {
  "@webio": {
   "lastCommId": null,
   "lastKernelId": null
  },
  "kernelspec": {
   "display_name": "Python 3",
   "language": "python",
   "name": "python3"
  },
  "language_info": {
   "codemirror_mode": {
    "name": "ipython",
    "version": 3
   },
   "file_extension": ".py",
   "mimetype": "text/x-python",
   "name": "python",
   "nbconvert_exporter": "python",
   "pygments_lexer": "ipython3",
   "version": "3.9.12"
  }
 },
 "nbformat": 4,
 "nbformat_minor": 5
}
